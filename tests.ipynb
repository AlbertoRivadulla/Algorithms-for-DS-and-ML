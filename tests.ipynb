{
 "cells": [
  {
   "cell_type": "markdown",
   "metadata": {},
   "source": [
    "# Test of algorithms in Data Science"
   ]
  },
  {
   "cell_type": "markdown",
   "metadata": {},
   "source": [
    "## Basic setup"
   ]
  },
  {
   "cell_type": "markdown",
   "metadata": {},
   "source": [
    "### Import the library with Ctypes\n",
    "\n",
    "I wrote the algorithms in a C++ library, which can be called from Python using ctypes"
   ]
  },
  {
   "cell_type": "code",
   "execution_count": 5,
   "metadata": {},
   "outputs": [],
   "source": [
    "import ctypes\n",
    "\n",
    "# Load the library\n",
    "# The methods below work for me\n",
    "# lib = ctypes.cdll.LoadLibrary( os.getcwd() + \"/DSAlgorithms/build/libDSAlgorithms.so.1.0.1\" )\n",
    "lib = ctypes.cdll.LoadLibrary( \"DSAlgorithms/build/libDSAlgorithms.so\" )"
   ]
  },
  {
   "cell_type": "code",
   "execution_count": 3,
   "metadata": {},
   "outputs": [
    {
     "name": "stdout",
     "output_type": "stream",
     "text": [
      "\n",
      "The sum of the elements of the array is: 45\n",
      "\n",
      "First 10 integers:\n",
      "[0, 1, 2, 3, 4, 5, 6, 7, 8, 9]\n",
      "\n",
      "Created a new instance of Foo in C++.\n",
      "Called bar method of Foo class in C++.\n",
      "Summing the array in C++...\n"
     ]
    }
   ],
   "source": [
    "import os\n",
    "import numpy as np\n",
    "\n",
    "###################################################\n",
    "# Test the methods that call the class Foo\n",
    "###################################################\n",
    "\n",
    "foo_instance = lib.Foo_new()\n",
    "lib.Foo_bar( foo_instance )\n",
    "print()\n",
    "\n",
    "###################################################\n",
    "# Test the sum_array function\n",
    "###################################################\n",
    "\n",
    "# Tell Python the arguments and result types for the function sum_array\n",
    "# The second argument of sum_array is a pointer to an array of integers\n",
    "lib.sum_array.restype  = ctypes.c_longlong\n",
    "lib.sum_array.argtypes = [ ctypes.c_int, np.ctypeslib.ndpointer( dtype=np.int32 ) ]\n",
    "\n",
    "# Create an array\n",
    "array = np.arange( 0, 10, 1, dtype=np.int32 )\n",
    "\n",
    "# Sum the elements of the array in C++\n",
    "array_sum = lib.sum_array( len(array), array )\n",
    "print( \"The sum of the elements of the array is: {}\".format( array_sum ) )\n",
    "print()\n",
    "\n",
    "###################################################\n",
    "# Test the first_integers function\n",
    "###################################################\n",
    "\n",
    "# Number of integers that I want\n",
    "nr = 10\n",
    "\n",
    "# Tell Python the arguments and result types for the function first_integers\n",
    "lib.first_integers.restype  = ctypes.POINTER( ctypes.c_int * nr )\n",
    "lib.first_integers.argtypes = [ ctypes.c_int ]\n",
    "\n",
    "# Get the first integers, and print them\n",
    "integers = lib.first_integers( nr )\n",
    "# Convert this to a list:\n",
    "integers_list = list(integers.contents)\n",
    "integers_list = [ i for i in integers.contents ]\n",
    "print(\"First {} integers:\".format(nr))\n",
    "print(integers_list)\n",
    "print()"
   ]
  },
  {
   "cell_type": "markdown",
   "metadata": {},
   "source": [
    "### Import other Python packages"
   ]
  },
  {
   "cell_type": "markdown",
   "metadata": {},
   "source": []
  }
 ],
 "metadata": {
  "kernelspec": {
   "display_name": "Python 3.9.7 ('base')",
   "language": "python",
   "name": "python3"
  },
  "language_info": {
   "codemirror_mode": {
    "name": "ipython",
    "version": 3
   },
   "file_extension": ".py",
   "mimetype": "text/x-python",
   "name": "python",
   "nbconvert_exporter": "python",
   "pygments_lexer": "ipython3",
   "version": "3.9.7"
  },
  "orig_nbformat": 4,
  "vscode": {
   "interpreter": {
    "hash": "3f37d4e39dba1e249b5d2fbfd664acd7947e33489b55f1b1ebda251e274d4f7f"
   }
  }
 },
 "nbformat": 4,
 "nbformat_minor": 2
}
